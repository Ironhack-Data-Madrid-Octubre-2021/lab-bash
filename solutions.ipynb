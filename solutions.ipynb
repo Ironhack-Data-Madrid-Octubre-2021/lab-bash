{
 "cells": [
  {
   "cell_type": "markdown",
   "source": [
    "### EJERCICIOS"
   ],
   "metadata": {}
  },
  {
   "cell_type": "markdown",
   "source": [
    "#### Imprime en consola Hello World."
   ],
   "metadata": {}
  },
  {
   "cell_type": "markdown",
   "source": [
    "echo Hello World"
   ],
   "metadata": {}
  },
  {
   "cell_type": "markdown",
   "source": [
    "#### Crea un directorio nuevo llamado new_dir."
   ],
   "metadata": {}
  },
  {
   "cell_type": "markdown",
   "source": [
    "mkdir new_dir"
   ],
   "metadata": {}
  },
  {
   "cell_type": "markdown",
   "source": [
    "#### Elimina ese directorio."
   ],
   "metadata": {}
  },
  {
   "cell_type": "markdown",
   "source": [
    "rm -r new_dir"
   ],
   "metadata": {}
  },
  {
   "cell_type": "markdown",
   "source": [
    "#### Imprime en consola Hello World."
   ],
   "metadata": {}
  },
  {
   "cell_type": "markdown",
   "source": [
    "echo Hello World"
   ],
   "metadata": {}
  },
  {
   "cell_type": "markdown",
   "source": [
    "#### Crea un directorio nuevo llamado new_dir."
   ],
   "metadata": {}
  },
  {
   "cell_type": "markdown",
   "source": [
    "mkdir new_dir"
   ],
   "metadata": {}
  },
  {
   "cell_type": "markdown",
   "source": [
    "#### Elimina ese directorio."
   ],
   "metadata": {}
  },
  {
   "cell_type": "markdown",
   "source": [
    "rm -r new_dir"
   ],
   "metadata": {}
  },
  {
   "cell_type": "markdown",
   "source": [
    "\n",
    "#### Copia el archivo sed.txt dentro de la carpeta lorem a la carpeta lorem-copy.\n"
   ],
   "metadata": {}
  },
  {
   "cell_type": "markdown",
   "source": [
    "mkdir lorem-copy \n",
    "cp lorem/sed.txt lorem-copy"
   ],
   "metadata": {}
  },
  {
   "cell_type": "markdown",
   "source": [
    "#### Copia los otros dos archivos de la carpeta lorem a la carpeta lorem-copy en una sola línea mediante ;."
   ],
   "metadata": {}
  },
  {
   "cell_type": "markdown",
   "source": [
    "cp lorem/{at.txt,lorem.txt} lorem-copy"
   ],
   "metadata": {}
  },
  {
   "cell_type": "markdown",
   "source": [
    "#### Muestra el contenido del archivo sed.txt dentro de la carpeta lorem."
   ],
   "metadata": {}
  },
  {
   "cell_type": "markdown",
   "source": [
    "cat lorem/sed.txt"
   ],
   "metadata": {}
  },
  {
   "cell_type": "markdown",
   "source": [
    "#### Muestra el contenido de los archivos at.txt y lorem.txt dentro de la carpeta lorem."
   ],
   "metadata": {}
  },
  {
   "cell_type": "code",
   "execution_count": null,
   "source": [
    "cat lorem/{at.txt,lorem.txt}"
   ],
   "outputs": [],
   "metadata": {}
  },
  {
   "cell_type": "markdown",
   "source": [
    "cat lorem/{at.txt,lorem.txt}"
   ],
   "metadata": {}
  },
  {
   "cell_type": "markdown",
   "source": [
    "#### Visualiza las primeras 3 líneas del archivo sed.txt dentro de la carpeta lorem-copy"
   ],
   "metadata": {}
  },
  {
   "cell_type": "markdown",
   "source": [
    "head -n 3 lorem-copy/sed.txt"
   ],
   "metadata": {}
  },
  {
   "cell_type": "markdown",
   "source": [
    "#### Visualiza las ultimas 3 líneas del archivo sed.txt dentro de la carpeta lorem-copy"
   ],
   "metadata": {}
  },
  {
   "cell_type": "markdown",
   "source": [
    "head -n 3 lorem-copy/sed.txt"
   ],
   "metadata": {}
  },
  {
   "cell_type": "markdown",
   "source": [
    "#### Añade Homo homini lupus. al final de archivo sed.txt dentro de la carpeta lorem-copy."
   ],
   "metadata": {}
  },
  {
   "cell_type": "markdown",
   "source": [
    "echo \"Homo homini lupus\" >> lorem-copy/sed.txt "
   ],
   "metadata": {}
  },
  {
   "cell_type": "markdown",
   "source": [
    "#### Visualiza las últimas 3 líneas del archivo sed.txt dentro de la carpeta lorem-copy. Deberías ver ahora Homo homini lupus"
   ],
   "metadata": {}
  },
  {
   "cell_type": "markdown",
   "source": [
    "tail -n 3 lorem-copy/sed.txt"
   ],
   "metadata": {}
  },
  {
   "cell_type": "markdown",
   "source": [
    "#### Sustituye todas las apariciones de et por ET del archivo at.txt dentro de la carpeta lorem-copy. Deberás usar sed."
   ],
   "metadata": {}
  },
  {
   "cell_type": "markdown",
   "source": [
    "sed 's/et/ET/g' lorem-copy/sed.txt"
   ],
   "metadata": {}
  },
  {
   "cell_type": "markdown",
   "source": [
    "#### Encuentra al usuario activo en el sistema."
   ],
   "metadata": {}
  },
  {
   "cell_type": "markdown",
   "source": [
    "whoami"
   ],
   "metadata": {}
  },
  {
   "cell_type": "markdown",
   "source": [
    "#### Encuentra dónde estás en tu sistema de ficheros."
   ],
   "metadata": {}
  },
  {
   "cell_type": "markdown",
   "source": [
    "pwd"
   ],
   "metadata": {}
  },
  {
   "cell_type": "markdown",
   "source": [
    "#### Lista los archivos que terminan por .txt en la carpeta lorem."
   ],
   "metadata": {}
  },
  {
   "cell_type": "markdown",
   "source": [
    "ls --file-type txt lorem"
   ],
   "metadata": {}
  },
  {
   "cell_type": "markdown",
   "source": [
    "#### Cuenta el número de líneas que tiene el archivo sed.txt dentro de la carpeta lorem."
   ],
   "metadata": {}
  },
  {
   "cell_type": "markdown",
   "source": [
    "wc -l lorem/sed.txt"
   ],
   "metadata": {}
  },
  {
   "cell_type": "markdown",
   "source": [
    "#### Cuenta el número de archivos que empiezan por lorem que están en este directorio y en directorios internos."
   ],
   "metadata": {}
  },
  {
   "cell_type": "markdown",
   "source": [
    "find lorem* -type d | wc -l"
   ],
   "metadata": {}
  },
  {
   "cell_type": "markdown",
   "source": [
    "#### Encuentra todas las apariciones de et en at.txt dentro de la carpeta lorem."
   ],
   "metadata": {}
  },
  {
   "cell_type": "markdown",
   "source": [
    "grep -r -i \"et\" lorem/at.txt "
   ],
   "metadata": {}
  },
  {
   "cell_type": "markdown",
   "source": [
    "#### Cuenta el número de apariciones del string et en at.txt dentro de la carpeta lorem."
   ],
   "metadata": {}
  },
  {
   "cell_type": "markdown",
   "source": [
    "grep -r -i \"et\" lorem/at.txt | wc -l"
   ],
   "metadata": {}
  },
  {
   "cell_type": "markdown",
   "source": [
    "#### Cuenta el número de apariciones del string et en todos los archivos del directorio lorem-copy."
   ],
   "metadata": {}
  },
  {
   "cell_type": "markdown",
   "source": [
    "grep -r -i \"et\" lorem/ | wc -l  "
   ],
   "metadata": {}
  },
  {
   "cell_type": "markdown",
   "source": [
    "### BONUS"
   ],
   "metadata": {}
  },
  {
   "cell_type": "markdown",
   "source": [],
   "metadata": {}
  },
  {
   "cell_type": "markdown",
   "source": [
    "#### Almacena en una variable name tu nombre."
   ],
   "metadata": {}
  },
  {
   "cell_type": "markdown",
   "source": [
    "my_name=\"Fer\" "
   ],
   "metadata": {}
  },
  {
   "cell_type": "markdown",
   "source": [
    "#### Imprime esa variable."
   ],
   "metadata": {}
  },
  {
   "cell_type": "markdown",
   "source": [
    "echo $my_name "
   ],
   "metadata": {}
  },
  {
   "cell_type": "markdown",
   "source": [
    "#### Crea un directorio nuevo que se llame como el contenido de la variable name."
   ],
   "metadata": {}
  },
  {
   "cell_type": "markdown",
   "source": [
    "mkdir $my_name"
   ],
   "metadata": {}
  },
  {
   "cell_type": "markdown",
   "source": [
    "#### Elimina ese directorio."
   ],
   "metadata": {}
  },
  {
   "cell_type": "markdown",
   "source": [
    "rm -r $my_name "
   ],
   "metadata": {}
  },
  {
   "cell_type": "markdown",
   "source": [
    "#### Por cada archivo dentro de la carpeta lorem imprime el número de carácteres que tienen sus nombres. Intenta primero mostrar los archivos mediante un bucle for:\n",
    "\n",
    "- Imprime los ficheros\n",
    "- Imprime las longitudes de los nombres de los ficheros\n",
    "- Imprime outputs con la siguiente estructura: lorem has 5 characters lenght"
   ],
   "metadata": {}
  },
  {
   "cell_type": "markdown",
   "source": [],
   "metadata": {}
  },
  {
   "cell_type": "markdown",
   "source": [
    "#### Muestra los procesos de forma jerárquica que se están ejecutando en tu ordenador:\n",
    "\n",
    "- Usando el comando top o htop\n",
    "- Usando el comando ps con argumentos"
   ],
   "metadata": {}
  },
  {
   "cell_type": "markdown",
   "source": [
    "htop"
   ],
   "metadata": {}
  },
  {
   "cell_type": "markdown",
   "source": [
    "#### Muestra información sobre tu procesador por pantalla"
   ],
   "metadata": {}
  },
  {
   "cell_type": "markdown",
   "source": [
    "neofech"
   ],
   "metadata": {}
  },
  {
   "cell_type": "markdown",
   "source": [
    "#### Crea 3 alias y haz que estén disponibles cada vez que inicias sesión"
   ],
   "metadata": {}
  },
  {
   "cell_type": "markdown",
   "source": [],
   "metadata": {}
  },
  {
   "cell_type": "markdown",
   "source": [
    "#### Comprime las carpetas lorem y lorem-copy en un archivo llamado lorem-compressed.tar.gz"
   ],
   "metadata": {}
  },
  {
   "cell_type": "markdown",
   "source": [],
   "metadata": {}
  },
  {
   "cell_type": "markdown",
   "source": [
    "#### Descomprime el archivo lorem-compressed.tar.gz en la carpeta lorem-uncompressed"
   ],
   "metadata": {}
  },
  {
   "cell_type": "markdown",
   "source": [],
   "metadata": {}
  },
  {
   "cell_type": "markdown",
   "source": [
    "#### Descomprime el archivo lorem-compressed.tar.gz en la carpeta lorem-uncompressed"
   ],
   "metadata": {}
  },
  {
   "cell_type": "markdown",
   "source": [],
   "metadata": {}
  }
 ],
 "metadata": {
  "kernelspec": {
   "display_name": "Python 3",
   "language": "python",
   "name": "python3"
  },
  "language_info": {
   "codemirror_mode": {
    "name": "ipython",
    "version": 3
   },
   "file_extension": ".py",
   "mimetype": "text/x-python",
   "name": "python",
   "nbconvert_exporter": "python",
   "pygments_lexer": "ipython3",
   "version": "3.7.7"
  },
  "toc": {
   "base_numbering": 1,
   "nav_menu": {},
   "number_sections": true,
   "sideBar": true,
   "skip_h1_title": true,
   "title_cell": "Table of Contents",
   "title_sidebar": "Contents",
   "toc_cell": false,
   "toc_position": {},
   "toc_section_display": true,
   "toc_window_display": false
  }
 },
 "nbformat": 4,
 "nbformat_minor": 4
}